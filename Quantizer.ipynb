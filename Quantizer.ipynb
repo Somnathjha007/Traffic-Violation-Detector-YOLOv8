{
 "cells": [
  {
   "cell_type": "code",
   "execution_count": null,
   "id": "e9ea5266-7443-4a1e-975f-6af8f2f3bc7f",
   "metadata": {},
   "outputs": [],
   "source": [
    "import tensorflow as tf\n",
    "import numpy as np\n",
    "\n",
    "# ✅ Load your original Keras model (.h5 or SavedModel)\n",
    "model_path = r\"D:\\project\\red_green_classifier.h5\"  # Update this if it's a SavedModel directory\n",
    "model = tf.keras.models.load_model(model_path)\n",
    "\n",
    "# ✅ Create a converter object\n",
    "converter = tf.lite.TFLiteConverter.from_keras_model(model)\n",
    "\n",
    "# ✅ Enable full INT8 quantization\n",
    "converter.optimizations = [tf.lite.Optimize.DEFAULT]\n",
    "\n",
    "# ✅ Representative dataset function for quantization (important!)\n",
    "def representative_dataset():\n",
    "    for _ in range(100):\n",
    "        data = np.random.rand(1, *model.input_shape[1:]).astype(np.float32)\n",
    "        yield [data]\n",
    "\n",
    "converter.representative_dataset = representative_dataset\n",
    "converter.target_spec.supported_ops = [tf.lite.OpsSet.TFLITE_BUILTINS_INT8]\n",
    "converter.inference_input_type = tf.int8\n",
    "converter.inference_output_type = tf.int8\n",
    "\n",
    "# ✅ Convert and save the model\n",
    "quantized_tflite_model = converter.convert()\n",
    "with open(\"model_int8.tflite\", \"wb\") as f:\n",
    "    f.write(quantized_tflite_model)\n",
    "\n",
    "print(\"✅ Successfully converted to model_int8.tflite\")\n"
   ]
  },
  {
   "cell_type": "code",
   "execution_count": 11,
   "id": "f1f6ef0c-7e7e-4646-bd04-7ece86032920",
   "metadata": {},
   "outputs": [
    {
     "name": "stdout",
     "output_type": "stream",
     "text": [
      "✅ model.h file created successfully!\n"
     ]
    }
   ],
   "source": [
    "import numpy as np\n",
    "\n",
    "# Read the quantized TFLite model\n",
    "tflite_model_path = r\"model_int8.tflite\"\n",
    "with open(tflite_model_path, \"rb\") as f:\n",
    "    tflite_model = f.read()\n",
    "\n",
    "# Convert model into C array\n",
    "hex_array = \", \".join(f\"0x{b:02x}\" for b in tflite_model)\n",
    "\n",
    "# Generate C header file\n",
    "header_content = f\"\"\"\\\n",
    "#ifndef MODEL_H\n",
    "#define MODEL_H\n",
    "\n",
    "#include <cstdint>\n",
    "\n",
    "alignas(8) const unsigned char g_model[] = {{\n",
    "    {hex_array}\n",
    "}};\n",
    "\n",
    "const int g_model_len = {len(tflite_model)};\n",
    "\n",
    "#endif  // MODEL_H\n",
    "\"\"\"\n",
    "\n",
    "# Save to model.h\n",
    "with open(\"model.h\", \"w\") as f:\n",
    "    f.write(header_content)\n",
    "\n",
    "print(\"✅ model.h file created successfully!\")\n"
   ]
  },
  {
   "cell_type": "code",
   "execution_count": 13,
   "id": "9f700ab1-b6d4-4615-b989-254fa88097dc",
   "metadata": {},
   "outputs": [
    {
     "name": "stdout",
     "output_type": "stream",
     "text": [
      "🔹 Estimated Tensor Arena Size: 1871054 bytes\n"
     ]
    }
   ],
   "source": [
    "import tensorflow.lite as tflite\n",
    "import numpy as np\n",
    "\n",
    "# Load your TFLite model\n",
    "interpreter = tflite.Interpreter(model_path=r\"model_int8.tflite\")\n",
    "\n",
    "# Allocate tensors\n",
    "interpreter.allocate_tensors()\n",
    "\n",
    "# Calculate the required tensor memory\n",
    "tensor_details = interpreter.get_tensor_details()\n",
    "tensor_arena_size = sum(np.prod(tensor['shape']) * np.dtype(tensor['dtype']).itemsize for tensor in tensor_details)\n",
    "\n",
    "print(f\"🔹 Estimated Tensor Arena Size: {tensor_arena_size} bytes\")\n"
   ]
  }
 ],
 "metadata": {
  "kernelspec": {
   "display_name": "Python 3 (ipykernel)",
   "language": "python",
   "name": "python3"
  },
  "language_info": {
   "codemirror_mode": {
    "name": "ipython",
    "version": 3
   },
   "file_extension": ".py",
   "mimetype": "text/x-python",
   "name": "python",
   "nbconvert_exporter": "python",
   "pygments_lexer": "ipython3",
   "version": "3.11.11"
  }
 },
 "nbformat": 4,
 "nbformat_minor": 5
}
